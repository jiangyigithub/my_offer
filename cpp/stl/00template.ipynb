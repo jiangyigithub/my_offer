{
 "cells": [
  {
   "cell_type": "markdown",
   "metadata": {},
   "source": [
    "## 函数模板\n",
    "* 函数重载VS函数模板\n",
    "* 函数重载的调用，compiler infer\n",
    "* side-effect,code bloat"
   ]
  },
  {
   "cell_type": "code",
   "execution_count": null,
   "metadata": {
    "vscode": {
     "languageId": "cpp"
    }
   },
   "outputs": [],
   "source": [
    "#include <iostream>\n",
    "using namespace std;\n",
    "\n",
    "//overrided function\n",
    "int square(int x){\n",
    "    return x*x;\n",
    "}\n",
    "\n",
    "double square(double x){\n",
    "    return x*x;\n",
    "}\n",
    "\n",
    "//function template\n",
    "template <typename T>\n",
    "T square(int T){\n",
    "    return x*x;\n",
    "}\n",
    "\n",
    "//main --> call function template \n",
    "square<int>(5)\n",
    "square<double>(5.5)\n",
    "\n",
    "//compiler infer\n",
    "square(5)\n",
    "square(5.5)\n",
    "\n",
    "// compiler generates code only when we instantiate a specific instance of the template."
   ]
  },
  {
   "cell_type": "markdown",
   "metadata": {},
   "source": [
    "## 类模板"
   ]
  },
  {
   "cell_type": "code",
   "execution_count": null,
   "metadata": {
    "vscode": {
     "languageId": "cpp"
    }
   },
   "outputs": [],
   "source": [
    "// class template\n",
    "template<typename T>\n",
    "class BoVector{\n",
    "    T arr[1000];\n",
    "    int size;\n",
    "public:\n",
    "    BoVector():size(0){}\n",
    "    void push(T x){arr[size]=x;size++;}\n",
    "    void print() const{for(int i=0;i<size;++i){cout<<arr[i]<<endl;}}\n",
    "};\n",
    "\n",
    "// main --> instantiate class template\n",
    "BoVector<int> bv;\n",
    "bv.push(2);\n",
    "bv.push(5);\n",
    "bv.push(8);\n",
    "bv.push(9);\n",
    "bv.print();"
   ]
  },
  {
   "cell_type": "markdown",
   "metadata": {},
   "source": [
    "## 两者的结合\n",
    "* 类模板的实例作为函数模板的实参\n",
    "1. 实例化类模板 BoVector<int> bv;\n",
    "2. call squre函数模版\n",
    "square<BoVector<int>>(bv)\n",
    "3. 在square函数内 invoke 操作符重载函数 operator*"
   ]
  },
  {
   "cell_type": "code",
   "execution_count": null,
   "metadata": {
    "vscode": {
     "languageId": "cpp"
    }
   },
   "outputs": [],
   "source": [
    "//function template\n",
    "template <typename T>\n",
    "T square(int T){\n",
    "    return x*x;\n",
    "}\n",
    "\n",
    "// class template\n",
    "template<typename T>\n",
    "class BoVector{\n",
    "    T arr[1000];\n",
    "    int size;\n",
    "public:\n",
    "    BoVector():size(0){}\n",
    "    void push(T x){arr[size]=x;size++;}\n",
    "    T get(int i) const{return arr[i];}\n",
    "    int getSize() const{return size;}\n",
    "    void print() const{for(int i=0;i<size;++i){cout<<arr[i]<<endl;}}\n",
    "};\n",
    "\n",
    "// operator function template --> to support the invoke of `square<BoVector<int>>(bv)`\n",
    "template<typename T>\n",
    "BoVector<T> operator*(const Bovector<T>& rhs1,BoVector<T>& rhs2){\n",
    "    BoVector<T> ret;\n",
    "    for(int i=0;i<rhs1.getSize();i++){\n",
    "        ret.push(rhs1.get(i)*rhs2.get(i));\n",
    "    }\n",
    "    return ret;\n",
    "}\n",
    "\n",
    "// main\n",
    "BoVector<int> bv;\n",
    "bv.push(2);\n",
    "bv.push(5);\n",
    "bv.push(8);\n",
    "bv.push(9);\n",
    "cout<<\"Print squared bv: \"<<endl;\n",
    "bv=square(bv); // square<BoVector<int>>(bv)\n",
    "bv.print();"
   ]
  }
 ],
 "metadata": {
  "language_info": {
   "name": "python"
  },
  "orig_nbformat": 4
 },
 "nbformat": 4,
 "nbformat_minor": 2
}
