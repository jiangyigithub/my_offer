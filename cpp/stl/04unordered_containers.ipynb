{
 "cells": [
  {
   "cell_type": "markdown",
   "metadata": {},
   "source": [
    "first\n",
    "sencond\n",
    "make_pair\n",
    "find_if"
   ]
  },
  {
   "cell_type": "code",
   "execution_count": null,
   "metadata": {
    "vscode": {
     "languageId": "cpp"
    }
   },
   "outputs": [],
   "source": [
    "/*\n",
    " *  Unordered Container (hash table) (C++ 11)\n",
    " *   - Unordered set and multiset\n",
    " *   - Unordered map and multimap\n",
    " \n",
    " *  Order not defined, and may change overtime\n",
    " *\n",
    " *  Default hash function defined for fundamental types and string.\n",
    " *\n",
    " *  No subscript operator[] or at()\n",
    " *  No push_back(), push_front()\n",
    " */\n",
    "\n",
    "/*\n",
    " * unordered set\n",
    " */\n",
    "  unordered_set<string> myset = { \"red\",\"green\",\"blue\" };\n",
    "  unordered_set<string>::const_iterator itr = myset.find (\"green\"); //search O(1)\n",
    "  if (itr != myset.end())   // Important check \n",
    "     cout << *itr << endl;\n",
    "  myset.insert(\"yellow\");  //insert O(1)\n",
    "\n",
    "  vector<string> vec = {\"purple\", \"pink\"};\n",
    "  myset.insert(vec.begin(), vec.end());\n",
    "\n",
    "// Hash table specific APIs:\n",
    "  cout << \"load_factor = \" << myset.load_factor() << endl;\n",
    "  string x = \"red\";\n",
    "  cout << x << \" is in bucket #\" << myset.bucket(x) << endl;\n",
    "  cout << \"Total bucket #\" << myset.bucket_count() << endl;\n",
    "\n",
    "\n",
    "\n",
    "\n",
    "\n",
    "\n",
    "\n",
    "// unordered multiset: unordered set that allows duplicated elements\n",
    "// unordered map: unordered set of pairs\n",
    "// unordered multimap: unordered map that allows duplicated keys\n",
    "\n",
    "\n",
    "// hash collision => performance degrade\n",
    "\n",
    "\n",
    "\n",
    "\n",
    "\n",
    "\n",
    "\n",
    "\n",
    "\n",
    "\n",
    "\n",
    "\n",
    "\n",
    "/* Properties of Unordered Containers:\n",
    " * 1. Fastest search/insert at any place: O(1)\n",
    " *     Associative Container takes O(log(n))\n",
    " *     vector, deque takes O(n)\n",
    " *     list takes O(1) to insert, O(n) to search\n",
    " * 2. Unorderd set/multiset: element value cannot be changed.\n",
    " *    Unorderd map/multimap: element key cannot be changed.\n",
    " */"
   ]
  },
  {
   "cell_type": "markdown",
   "metadata": {},
   "source": [
    "## unordered_map vs map\n",
    "1. Search time: unordered_map, O(1); map, O(log(n));\n",
    "2. Unordered_map may degrade to O(n); map can guarantee to O(log(n));\n",
    "3. Can't use multimap and unordered_multimap, they don't have [] operator."
   ]
  },
  {
   "cell_type": "markdown",
   "metadata": {},
   "source": [
    "\n",
    "  Container Adaptor\n",
    "   - Provide a restricted interface to meet special needs\n",
    "   - Implemented with fundamental container classes\n",
    " \n",
    "   1. stack:  LIFO, push(), pop(), top()\n",
    "   2. queue:  FIFO, push(), pop(), front(), back() \n",
    "   3. priority queue: first item always has the greatest priority\n",
    "                    push(), pop(), top()\n",
    "\n"
   ]
  },
  {
   "cell_type": "markdown",
   "metadata": {},
   "source": [
    "\n",
    "  ## 指针失效\n",
    "  Another way of categorizing containers:\n",
    " \n",
    "  1. Array based containers: vector, deque\n",
    "  2. Node base containers: list + associative containers + unordered containers\n",
    " \n",
    "  Array based containers invalidates pointers:\n",
    "     - Native pointers, iterators, references\n",
    "\n",
    "```c++\n",
    " vector<int> vec = {1,2,3,4};\n",
    " int* p = &vec[2];   // p points to 3\n",
    " vec.insert(vec.begin(), 0);\n",
    " cout << *p << endl;   // 2, or ?\n",
    " ```"
   ]
  },
  {
   "cell_type": "markdown",
   "metadata": {},
   "source": [
    "## \n",
    "find pre-check `itr != m.end()`\n",
    "insert\n",
    "[]operator"
   ]
  },
  {
   "cell_type": "code",
   "execution_count": null,
   "metadata": {
    "vscode": {
     "languageId": "cpp"
    }
   },
   "outputs": [],
   "source": [
    "/*\n",
    " * Associative Array\n",
    " * - map and unordered map\n",
    " */\n",
    "unordered_map<char, string> day = {{'S',\"Sunday\"}, {'M',\"Monday\"}};\n",
    "\n",
    "cout << day['S'] << endl;    // No range check\n",
    "cout << day.at('S') << endl; // Has range check\n",
    "\n",
    "vector<int> vec = {1, 2, 3};\n",
    "vec[5] = 5;   // Compile Error\n",
    "\n",
    "day['W'] = \"Wednesday\";  // Inserting {'W', \"Wednesday}\n",
    "day.insert(make_pair('F', \"Friday\"));  // Inserting {'F', \"Friday\"}\n",
    "\n",
    "day.insert(make_pair('M', \"MONDAY\"));  // Fail to modify, it's an unordered_map\n",
    "day['M'] = \"MONDAY\";                   // Succeed to modify"
   ]
  },
  {
   "cell_type": "code",
   "execution_count": null,
   "metadata": {
    "vscode": {
     "languageId": "cpp"
    }
   },
   "outputs": [],
   "source": [
    "void foo(const unordered_map<char, string>& m) {\n",
    "   //m['S'] = \"SUNDAY\";\n",
    "   //cout << m['S'] << endl;\n",
    "   auto itr = m.find('S');\n",
    "   if (itr != m.end())\n",
    "      cout << *itr << endl;\n",
    "}\n",
    "foo(day);"
   ]
  }
 ],
 "metadata": {
  "language_info": {
   "name": "python"
  },
  "orig_nbformat": 4
 },
 "nbformat": 4,
 "nbformat_minor": 2
}
