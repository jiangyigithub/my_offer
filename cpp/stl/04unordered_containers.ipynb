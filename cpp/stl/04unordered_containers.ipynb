{
 "cells": [
  {
   "cell_type": "markdown",
   "metadata": {},
   "source": [
    "## Unordered Container (hash table) (C++ 11)\n",
    "* `unordered set` \n",
    "* `unordered multiset`: unordered set that allows duplicated elements\n",
    "* `unordered map`: unordered set of pairs\n",
    "* `unordered multimap`: unordered map that allows duplicated keys\n",
    " \n",
    "## unordered container VS other twos\n",
    "  * Order not defined, and may change overtime\n",
    "  * Default hash function defined for fundamental types and string.\n",
    "  * No subscript operator[] or at()\n",
    "  * No push_back(), push_front()\n",
    "  \n",
    "## Properties of Unordered Containers:\n",
    "1. Fastest search/insert at any place: O(1)\n",
    "   Associative Container takes O(log(n))\n",
    "   vector, deque takes O(n)\n",
    "   list takes O(1) to insert, O(n) to search\n",
    "2. Unorderd set/multiset: element value cannot be changed.\n",
    "   Unorderd map/multimap: element key cannot be changed.\n",
    "\n",
    "## unordered_map VS map\n",
    "1. Search time: unordered_map, O(1); map, O(log(n));\n",
    "2. Unordered_map may degrade to O(n); map can guarantee to O(log(n)) --> important to real-time system;"
   ]
  },
  {
   "cell_type": "code",
   "execution_count": null,
   "metadata": {
    "vscode": {
     "languageId": "cpp"
    }
   },
   "outputs": [],
   "source": [
    "/*\n",
    " * unordered set\n",
    " */\n",
    "  unordered_set<string> myset = { \"red\",\"green\",\"blue\" };\n",
    "  unordered_set<string>::const_iterator itr = myset.find (\"green\"); //search O(1)\n",
    "  if (itr != myset.end())   // Important check \n",
    "     cout << *itr << endl;\n",
    "  myset.insert(\"yellow\");  //insert O(1)\n",
    "\n",
    "  vector<string> vec = {\"purple\", \"pink\"};\n",
    "  myset.insert(vec.begin(), vec.end());\n",
    "\n",
    "\n",
    "// Hash table specific APIs:\n",
    "  cout << \"load_factor = \" << myset.load_factor() << endl;\n",
    "  string x = \"red\";\n",
    "  cout << x << \" is in bucket #\" << myset.bucket(x) << endl;\n",
    "  cout << \"Total bucket #\" << myset.bucket_count() << endl;"
   ]
  },
  {
   "cell_type": "markdown",
   "metadata": {},
   "source": [
    "## Associative array VS regular array\n",
    "* regular array --> subscript operator[] or at()\n",
    "* associative array --> key operator[] or at()\n",
    "* can't use multimap and unordered_multimap to implement associated array, because they donot have unique key, they don't have [] operator."
   ]
  },
  {
   "cell_type": "code",
   "execution_count": null,
   "metadata": {
    "vscode": {
     "languageId": "cpp"
    }
   },
   "outputs": [],
   "source": [
    "/*\n",
    " * Associative Array\n",
    " * - use map and unordered map to implement associative array\n",
    " */\n",
    "unordered_map<char, string> day = {{'S',\"Sunday\"}, {'M',\"Monday\"}};\n",
    "cout << day['S'] << endl;    // No range check\n",
    "cout << day.at('S') << endl; // Has range check\n",
    "\n",
    "vector<int> vec = {1, 2, 3};\n",
    "cout << vec[2]<<endl;     // 3  (no range check)\n",
    "cout << vec.at(2)<<endl;  // 3  (throw range_error exception of out of range)\n",
    "\n",
    "vec[5] = 5;   // Compile Error，no memory allocate for vec[5]\n",
    "\n",
    "day.insert(make_pair('F', \"Friday\"));  // Inserting {'F', \"Friday\"}\n",
    "day['W'] = \"Wednesday\";  // Inserting {'W', \"Wednesday}"
   ]
  },
  {
   "cell_type": "code",
   "execution_count": null,
   "metadata": {
    "vscode": {
     "languageId": "cpp"
    }
   },
   "outputs": [],
   "source": [
    "// insert 和 operator[] 的读写权限\n",
    "day.insert(make_pair('M', \"MONDAY\"));  // Fail to modify, it's an unordered_map, element key cannot be changed.\n",
    "day['M'] = \"MONDAY\";                   // Succeed to modify"
   ]
  },
  {
   "cell_type": "code",
   "execution_count": null,
   "metadata": {
    "vscode": {
     "languageId": "cpp"
    }
   },
   "outputs": [],
   "source": [
    "// 函数参数为const unordered_map类型\n",
    "//  operator[]的读写权限\n",
    "void foo(const unordered_map<char, string>& m) {\n",
    "   //m['S'] = \"SUNDAY\";\n",
    "   //cout << m['S'] << endl;\n",
    "   auto itr = m.find('S');\n",
    "   if (itr != m.end())\n",
    "      cout << *itr << endl;\n",
    "}\n",
    "foo(day);"
   ]
  },
  {
   "cell_type": "markdown",
   "metadata": {},
   "source": [
    "## pitfalls\n",
    "1. `find` find函数可能失效，失效时返回end()指针，因此使用find的返回值时，需要做pre-check\n",
    "```c++\n",
    "  unordered_set<string> myset = { \"red\",\"green\",\"blue\" };\n",
    "  unordered_set<string>::const_iterator itr = myset.find (\"green\"); // O(1)\n",
    "  if (itr != myset.end())   // Important check \n",
    "      cout << *itr << endl;\n",
    "```\n",
    "\n",
    "2. `Associative array中[]和insert的读写权限`\n",
    "   * 函数的参数为Associative array时需要注意\n",
    "   * element key cannot be changed.\n",
    "\n",
    "3. `hash collision` => performance degrade\n",
    "   \n",
    "4. `Array based containers`可能会发生指针失效\n",
    "  categorizing containers:\n",
    "  1. Array based containers: vector, deque\n",
    "  2. Node base containers: list + associative containers + unordered containers\n",
    "  Array based containers invalidates pointers:\n",
    "     - Native pointers, iterators, references\n",
    "```c++\n",
    "  vector<int> vec = {1,2,3,4};\n",
    "  int* p = &vec[2];   // p points to 3\n",
    "  vec.insert(vec.begin(), 0);\n",
    "  cout << *p << endl;   // 2, or ?\n",
    " ```"
   ]
  },
  {
   "cell_type": "markdown",
   "metadata": {},
   "source": [
    "  ## Container Adaptor\n",
    "   - Provide a restricted interface to meet special needs\n",
    "   - Implemented with fundamental container classes\n",
    " \n",
    "   1. stack:  LIFO, push(), pop(), top()\n",
    "   2. queue:  FIFO, push(), pop(), front(), back() \n",
    "   3. priority queue: first item always has the greatest priority\n",
    "                    push(), pop(), top()"
   ]
  }
 ],
 "metadata": {
  "language_info": {
   "name": "python"
  },
  "orig_nbformat": 4
 },
 "nbformat": 4,
 "nbformat_minor": 2
}
