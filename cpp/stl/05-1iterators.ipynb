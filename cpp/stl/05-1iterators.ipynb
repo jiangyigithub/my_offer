{
 "cells": [
  {
   "cell_type": "code",
   "execution_count": null,
   "metadata": {
    "vscode": {
     "languageId": "cpp"
    }
   },
   "outputs": [],
   "source": [
    "/*\n",
    " * Iterators\n",
    " */\n",
    "// 1. Random Access Iterator:  vector, deque, array\n",
    "vector<int> itr;\n",
    "itr = itr + 5;  // advance itr by 5\n",
    "itr = itr - 4;  \n",
    "if (itr2 > itr1) ...\n",
    "++itr;   // faster than itr++\n",
    "--itr;\n",
    "\n",
    "// 2. Bidirectional Iterator: list, set/multiset, map/multimap\n",
    "list<int> itr;\n",
    "++itr;\n",
    "--itr;\n",
    "\n",
    "// 3. Forward Iterator: forward_list\n",
    "forward_list<int> itr;\n",
    "++itr;\n",
    "\n",
    "// Unordered containers provide \"at least\" forward iterators."
   ]
  },
  {
   "cell_type": "code",
   "execution_count": null,
   "metadata": {
    "vscode": {
     "languageId": "cpp"
    }
   },
   "outputs": [],
   "source": [
    "// 4. Input Iterator: read and process values while iterating forward.\n",
    "int x = *itr;\n",
    "\n",
    "// 5. Output Iterator: output values while iterating forward.\n",
    "*itr = 100;"
   ]
  },
  {
   "cell_type": "code",
   "execution_count": null,
   "metadata": {
    "vscode": {
     "languageId": "cpp"
    }
   },
   "outputs": [],
   "source": [
    "// Every container has a iterator and a const_iterator\n",
    "set<int>::iterator itr;\n",
    "set<int>::const_iterator citr;  // Read_only access to container elements\n",
    "\n",
    "set<int> myset = {2,4,5,1,9};\n",
    "for (citr = myset.begin(); citr != myset.end(); ++citr) {\n",
    "   cout << *citr << endl;\n",
    "   //*citr = 3;\n",
    "}\n",
    "for_each(myset.cbegin(), myset.cend(), MyFunction);  // Only in C++ 11"
   ]
  },
  {
   "cell_type": "code",
   "execution_count": null,
   "metadata": {
    "vscode": {
     "languageId": "cpp"
    }
   },
   "outputs": [],
   "source": [
    "// Iterator Functions:\n",
    "advance(itr, 5);       // Move itr forward 5 spots.   itr += 5;\n",
    "distance(itr1, itr2);  // Measure the distance between itr1 and itr2"
   ]
  },
  {
   "cell_type": "code",
   "execution_count": null,
   "metadata": {
    "vscode": {
     "languageId": "cpp"
    }
   },
   "outputs": [],
   "source": [
    "/* Iterator Adaptor (Predefined Iterator)\n",
    " *  - A special, more powerful iterator\n",
    " * 1. Insert iterator\n",
    " * 2. Stream iterator\n",
    " * 3. Reverse iterator\n",
    " * 4. Move iterator (C++ 11)\n",
    " */"
   ]
  },
  {
   "cell_type": "code",
   "execution_count": null,
   "metadata": {
    "vscode": {
     "languageId": "cpp"
    }
   },
   "outputs": [],
   "source": [
    "// 1. Insert Iterator:\n",
    "vector<int> vec1 = {4,5};\n",
    "vector<int> vec2 = {12, 14, 16, 18};\n",
    "vector<int>::iterator it = find(vec2.begin(), vec2.end(), 16);\n",
    "insert_iterator< vector<int> > i_itr(vec2,it);\n",
    "copy(vec1.begin(),vec1.end(),  // source\n",
    "     i_itr);                   // destination\n",
    "     //vec2: {12, 14, 4, 5, 16, 18}\n",
    "// Other insert iterators: back_insert_iterator, front_insert_iterator\n",
    "\n",
    "\n",
    "// 2. Stream Iterator:\n",
    "vector<string> vec4;\n",
    "copy(istream_iterator<string>(cin), istream_iterator<string>(), \n",
    "            back_inserter(vec4));\n",
    "\n",
    "copy(vec4.begin(), vec4.end(), ostream_iterator<string>(cout, \" \"));\n",
    "\n",
    "// Make it terse:\n",
    "copy(istream_iterator<string>(cin), istream_iterator<string>(), \n",
    "            ostream_iterator<string>(cout, \" \"));\n",
    "\n",
    "\n",
    "// 3. Reverse Iterator:\n",
    "vector<int> vec = {4,5,6,7};\n",
    "reverse_iterator<vector<int>::iterator> ritr;\n",
    "for (ritr = vec.rbegin(); ritr != vec.rend(); ritr++)\n",
    "   cout << *ritr << endl;   // prints: 7 6 5 4"
   ]
  }
 ],
 "metadata": {
  "language_info": {
   "name": "python"
  },
  "orig_nbformat": 4
 },
 "nbformat": 4,
 "nbformat_minor": 2
}
