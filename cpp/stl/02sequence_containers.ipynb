{
 "cells": [
  {
   "cell_type": "markdown",
   "metadata": {},
   "source": [
    "## containers type\n",
    "1. sequence containers(array and linked list)\n",
    "   * vector,deque,list,forward list,array\n",
    "2. associative containers(binary tree)\n",
    "   * set,multiset\n",
    "   * map,multimap\n",
    "3. unordered containers(hash table)\n",
    "   * unordered set/multiset\n",
    "   * unordered map/multimap"
   ]
  },
  {
   "cell_type": "markdown",
   "metadata": {},
   "source": [
    "## head file"
   ]
  },
  {
   "cell_type": "code",
   "execution_count": null,
   "metadata": {
    "vscode": {
     "languageId": "cpp"
    }
   },
   "outputs": [],
   "source": [
    "// STL head file\n",
    "#include <vector>\n",
    "#include <deque>\n",
    "#include <list>\n",
    "#include <set>   // set and multiset\n",
    "#include <map>   // map and multimap\n",
    "#include <unordered_set>  // unordered set/multiset\n",
    "#include <unordered_map>  // unordered map/multimap\n",
    "#include <iterator>\n",
    "#include <algorithm>\n",
    "#include <numeric>    // some numeric algorithm\n",
    "#include <functional>"
   ]
  },
  {
   "cell_type": "markdown",
   "metadata": {},
   "source": [
    "## sequence containers proporties\n",
    "1. common property\n",
    "2. character\n",
    "   * vector(单向开口)\n",
    "   * deque\n",
    "   * list/forward_list\n",
    "   * array"
   ]
  },
  {
   "cell_type": "code",
   "execution_count": null,
   "metadata": {
    "vscode": {
     "languageId": "cpp"
    }
   },
   "outputs": [],
   "source": [
    "// Common member functions of all containers.\n",
    "// vec: {4, 1, 8}\n",
    "if (vec.empty()) { cout << \"Not possible.\\n\"; }\n",
    "\n",
    "cout << vec.size();   // 3\n",
    "\n",
    "vector<int> vec2(vec);  // Copy constructor, vec2: {4, 1, 8}\n",
    "\n",
    "vec.clear();    // Remove all items in vec;   vec.size() == 0\n",
    "\n",
    "vec2.swap(vec);   // vec2 becomes empty, and vec has 3 items.\n",
    "\n",
    "\n",
    "// Notes: No penalty of abstraction, very efficient."
   ]
  },
  {
   "cell_type": "code",
   "execution_count": null,
   "metadata": {
    "vscode": {
     "languageId": "cpp"
    }
   },
   "outputs": [],
   "source": [
    "/*\n",
    " * vector\n",
    " */\n",
    "vector<int> vec;   // vec.size() == 0\n",
    "vec.push_back(4);\n",
    "vec.push_back(1);\n",
    "vec.push_back(8);  // vec: {4, 1, 8};    vec.size() == 3\n",
    "\n",
    "// Vector specific operations:\n",
    "cout << vec[2];     // 8  (no range check)\n",
    "cout << vec.at(2);  // 8  (throw range_error exception of out of range)\n",
    "\n",
    "//traverse\n",
    "//old style,like regular array\n",
    "for (int i; i < vec.size(); ++i) {\n",
    "   cout << vec[i] << \" \";\n",
    "\n",
    "//iterator loop\n",
    "for (vector<int>::iterator itr = vec.begin(); itr!= vec.end(); ++itr)\n",
    "   cout << *itr << \" \";  \n",
    "\n",
    "//for-each\n",
    "for (auto it: vec)    // C++ 11\n",
    "   cout << it << \" \";\n",
    "\n",
    "// Vector is a dynamically allocated contiguous array in memory\n",
    "int* p = &vec[0];   p[2] = 6;\n",
    "\n",
    "\n",
    "/* Properties of vector:\n",
    " * 1. fast insert/remove at the end: O(1)\n",
    " * 2. slow insert/remove at the begining or in the middle: O(n)\n",
    " * 3. slow search: O(n)\n",
    " */"
   ]
  },
  {
   "cell_type": "code",
   "execution_count": null,
   "metadata": {
    "vscode": {
     "languageId": "cpp"
    }
   },
   "outputs": [],
   "source": [
    "/*\n",
    " * deque\n",
    " */\n",
    "deque<int> deq = { 4, 6, 7 };\n",
    "deq.push_front(2);  // deq: {2, 4, 6, 7}\n",
    "deq.push_back(3);   // deq: {2, 4, 6, 7, 3}\n",
    "\n",
    "// Deque has similar interface with vector\n",
    "cout << deq[1];  // 4\n",
    "\n",
    "\n",
    "/* Properties of deque:\n",
    " * 1. fast insert/remove at the begining and the end;\n",
    " * 2. slow insert/remove in the middle: O(n)\n",
    " * 3. slow search: O(n)\n",
    " */"
   ]
  },
  {
   "cell_type": "code",
   "execution_count": null,
   "metadata": {
    "vscode": {
     "languageId": "cpp"
    }
   },
   "outputs": [],
   "source": [
    "/*\n",
    " * list\n",
    " *  -- double linked list\n",
    " */\n",
    "list<int> mylist = {5, 2, 9 }; \n",
    "mylist.push_back(6);  // mylist: { 5, 2, 9, 6}\n",
    "mylist.push_front(4); // mylist: { 4, 5, 2, 9, 6}\n",
    "\n",
    "   \n",
    "list<int>::iterator itr = find(mylist.begin(), mylist.end(), 2); // itr -> 2\n",
    "mylist.insert(itr, 8);   // mylist: {4, 5, 8, 2, 9, 6}  \n",
    "                         // O(1), faster than vector/deque\n",
    "itr++;                   // itr -> 9\n",
    "mylist.erase(itr);       // mylist: {4, 8, 5, 2, 6}   O(1)\n",
    "\n",
    "\n",
    "/* Properties of List:\n",
    " * 1. fast insert/remove at any place: O(1)\n",
    " * 2. slow search: O(n) ,slow than vector\n",
    " * 3. no random access, no [] operator.\n",
    " */\n",
    "\n",
    "// list killing function\n",
    "mylist1.splice(itr, mylist2, itr_a, itr_b );   // O(1)"
   ]
  },
  {
   "cell_type": "code",
   "execution_count": null,
   "metadata": {
    "vscode": {
     "languageId": "cpp"
    }
   },
   "outputs": [],
   "source": [
    "/*\n",
    " * array\n",
    " */\n",
    "\n",
    "array<int,3> a={3,4,5} // C++ 11\n",
    "a.begin() \n",
    "b.end()\n",
    "a.size()\n",
    "a.swap()\n",
    "/*\n",
    " * array\n",
    " */\n",
    "\n",
    "/// container APIs are available for regular static array "
   ]
  },
  {
   "cell_type": "markdown",
   "metadata": {},
   "source": [
    "## practices\n",
    "* `deque` [剑指 Offer 59 - II. 队列的最大值](https://leetcode-cn.com/leetbook/read/illustration-of-algorithm/e2t5ug/)\n",
    "* `list` [剑指 Offer 35. 复杂链表的复制](https://leetcode-cn.com/leetbook/read/illustration-of-algorithm/9p0yy1/)"
   ]
  }
 ],
 "metadata": {
  "language_info": {
   "name": "python"
  },
  "orig_nbformat": 4
 },
 "nbformat": 4,
 "nbformat_minor": 2
}
