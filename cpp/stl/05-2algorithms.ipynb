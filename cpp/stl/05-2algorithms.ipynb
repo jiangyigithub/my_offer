{
 "cells": [
  {
   "cell_type": "code",
   "execution_count": null,
   "metadata": {},
   "outputs": [],
   "source": []
  },
  {
   "cell_type": "code",
   "execution_count": null,
   "metadata": {
    "vscode": {
     "languageId": "cpp"
    }
   },
   "outputs": [],
   "source": [
    "/*\n",
    " * Algorithms\n",
    " *   - mostly loops\n",
    " */\n",
    "vector<int> vec = { 4, 2, 5, 1, 3, 9};   \n",
    "vector<int>::iterator itr = min_element(vec.begin(), vec.end()); // itr -> 1\n",
    "\n",
    "// Note 1: Algorithm always process ranges in a half-open way: [begin, end)\n",
    "sort(vec.begin(), itr);  // vec: { 2, 4, 5, 1, 3, 9}\n",
    "\n",
    "reverse(itr, vec.end());  // vec: { 2, 4, 5, 9, 3, 1}   itr => 9\n",
    "\n",
    "\n",
    "// Note 2: more than one range loop case\n",
    "vector<int> vec2(3);\n",
    "copy(itr, vec.end(),  // Source\n",
    "     vec2.begin());   // Destination\n",
    "     //vec2 needs to have at least space for 3 elements.\n",
    "\n",
    "\n",
    "// Note 3:\n",
    "vector<int> vec3;\n",
    "copy(itr, vec.end(), back_inserter(vec3));  // Inserting instead of overwriting \n",
    "                  // back_insert_iterator      Not efficient --> copy one by one\n",
    "\n",
    "vec3.insert(vec3.end(), itr, vec.end());  // Efficient and safe --> insert once\n",
    "\n",
    "\n",
    "// Note 4: Algorithm with function\n",
    "bool isOdd(int i) {\n",
    "   return i%2;\n",
    "}\n",
    "\n",
    "int main() {\n",
    "   vector<int> vec4 = {2, 4, 5, 9, 2};\n",
    "   vector<int>::iterator itr = find_if(vec4.begin(), vec4.end(), isOdd); \n",
    "   \t                             // itr -> 5\n",
    "}\n",
    "\n",
    "\n",
    "// Note 5: Algorithm with native C++ array --> array is a pointer, so it is a iterator,algorithm operate on iterator level\n",
    "int arr[4] = {6,3,7,4};\n",
    "sort(arr, arr+4);"
   ]
  }
 ],
 "metadata": {
  "language_info": {
   "name": "python"
  },
  "orig_nbformat": 4
 },
 "nbformat": 4,
 "nbformat_minor": 2
}
