{
 "cells": [
  {
   "cell_type": "code",
   "execution_count": null,
   "metadata": {
    "vscode": {
     "languageId": "cpp"
    }
   },
   "outputs": [],
   "source": [
    "/*\n",
    " * Function Objects (functors) --> class with operator()\n",
    " *\n",
    " * Example:\n",
    " */\n",
    "class X {\n",
    "   public:\n",
    "   void operator()(string str) { \n",
    "      cout << \"Calling functor X with parameter \" << str<< endl;\n",
    "   } \n",
    "\n",
    "    operator string() const{return \"X\";} // type conversion function\n",
    "};\n",
    "\n",
    "int main()\n",
    "{\n",
    "   X foo;\n",
    "   foo(\"Hi\");    // Calling functor X with parameter Hi\n",
    "}\n",
    "/*\n",
    " * Benefits of functor:\n",
    " * 1. Smart function: capabilities beyond operator()\n",
    " * \tIt can remember state. --> it is a class ,can have class member\n",
    " * 2. It can have its own type. --> ??\n",
    " */"
   ]
  },
  {
   "cell_type": "code",
   "execution_count": null,
   "metadata": {
    "vscode": {
     "languageId": "cpp"
    }
   },
   "outputs": [],
   "source": [
    "/*\n",
    " * Parameterized Function\n",
    " */\n",
    "class X {\n",
    "   public:\n",
    "   X(int i) {}\n",
    "   void operator()(string str) { \n",
    "      cout << \"Calling functor X with parameter \" << str<< endl;\n",
    "   }\n",
    "};\n",
    "\n",
    "int main()\n",
    "{\n",
    "   X(8)(\"Hi\");\n",
    "}"
   ]
  },
  {
   "cell_type": "code",
   "execution_count": null,
   "metadata": {
    "vscode": {
     "languageId": "cpp"
    }
   },
   "outputs": [],
   "source": [
    "/*\n",
    " * Different schemes implement for Parameterized Function\n",
    " */\n",
    "\n",
    "// how to make `add2` parameterized\n",
    "void add2(int i) {\n",
    "   cout << i+2 << endl;\n",
    "}\n",
    "\n",
    "// UC1: config outside of function\n",
    "int val =2;\n",
    "\n",
    "void add2(int i) {\n",
    "   cout << i+val << endl;\n",
    "}\n",
    "\n",
    "int main()\n",
    "{\n",
    "   vector<int> vec = { 2, 3, 4, 5};   \n",
    "   for_each(vec.begin(), vec.end(), add2); // {4, 5, 6, 7}\n",
    "}\n",
    "\n",
    "// UC2: nontype template parameter  \n",
    "template<int val>\n",
    "void addVal(int i) {\n",
    "   cout << val+i << endl;\n",
    "}\n",
    "int main()\n",
    "{  \n",
    "   // the template parameter must be instanced\n",
    "   for_each(vec.begin(), vec.end(), addVal<2>); // {4, 5, 6, 7}\n",
    "   \n",
    "   // --> can not complie, template generate code in compile time\n",
    "   // int x = 2;\n",
    "   // for_each(vec.begin(), vec.end(), addVal<x>); \n",
    "\n",
    "}\n",
    "\n",
    "// UC3: functor\n",
    "class AddValue {\n",
    "   int val;\n",
    "   public:\n",
    "   AddValue(int j) : val(j) { }\n",
    "   void operator()(int i) {\n",
    "      cout << i+val << endl;\n",
    "   }\n",
    "};\n",
    "\n",
    "int main()\n",
    "{\n",
    "   vector<int> vec = { 2, 3, 4, 5};   \n",
    "   for_each(vec.begin(), vec.end(), AddValue(x)); // {4, 5, 6, 7}\n",
    "}"
   ]
  },
  {
   "cell_type": "code",
   "execution_count": null,
   "metadata": {
    "vscode": {
     "languageId": "cpp"
    }
   },
   "outputs": [],
   "source": [
    "/*\n",
    " * Build-in Functors\n",
    " *\n",
    " * less greater  greater_equal  less_equal  not_equal_to\n",
    " * logical_and  logical_not  logical_or\n",
    " * multiplies minus  plus  divide  modulus  negate\n",
    " */\n",
    "\n",
    "int x = multiplies<int>()(3,4);  //  x = 3 * 4 \n",
    "\n",
    "if (not_equal_to<int>()(x, 10))   // if (x != 10)\n",
    "   cout << x << endl;"
   ]
  },
  {
   "cell_type": "code",
   "execution_count": null,
   "metadata": {
    "vscode": {
     "languageId": "cpp"
    }
   },
   "outputs": [],
   "source": [
    "/*\n",
    " * Parameter Binding --> std::binding\n",
    " */\n",
    "set<int> myset = { 2, 3, 4, 5};   \n",
    "vector<int> vec;\n",
    "\n",
    "// Multiply myset's elements by 10 and save in vec:\n",
    "transform(myset.begin(), myset.end(),    // source\n",
    "\t      back_inserter(vec),              // destination\n",
    "\t\t\tbind(multiplies<int>(), placeholders::_1, 10));  // functor\n",
    "    // First parameter of multiplies<int>() is substituted with myset's element\n",
    "    // vec: {20, 30, 40, 50}\n",
    "\n",
    "\n",
    "void addVal(int i, int val) {\n",
    "   cout << i+val << endl;\n",
    "}\n",
    "for_each(vec.begin(), vec.end(), bind(addVal, placeholders::_1, 2));"
   ]
  },
  {
   "cell_type": "code",
   "execution_count": null,
   "metadata": {
    "vscode": {
     "languageId": "cpp"
    }
   },
   "outputs": [],
   "source": [
    "/*\n",
    " * Convert a regular function to a functor --> std::function\n",
    " */\n",
    "double Pow(double x, double y) {\n",
    "\treturn pow(x, y);\n",
    "}\n",
    "\n",
    "int main()\n",
    "{\n",
    "  set<int> myset = {3, 1, 25, 7, 12};\n",
    "  deque<int> d;\n",
    "  auto f = function<double (double,double)>(Pow);   //C++ 11\n",
    "  transform(myset.begin(), myset.end(),     // source\n",
    "\t\t      back_inserter(d),              // destination\n",
    "\t\t\t\tbind(f, placeholders::_1, 2));  // functor\n",
    "            //  d: {1, 9, 49, 144, 625}\n",
    "}"
   ]
  },
  {
   "cell_type": "code",
   "execution_count": null,
   "metadata": {
    "vscode": {
     "languageId": "cpp"
    }
   },
   "outputs": [],
   "source": [
    "\n",
    "/*\n",
    " * Lambda\n",
    " */\n",
    "set<int> myset = {3, 1, 25, 7, 12};\n",
    "// when (x > 20) || (x < 5),  copy from myset to d\n",
    "deque<int> d;\n",
    "\n",
    "bool needCopy(int x){\n",
    "   return (x>20)||(x<5);\n",
    "}\n",
    "\n",
    "\n",
    "transform(myset.begin(), myset.end(),     // source\n",
    "          back_inserter(d),               // destination\n",
    "          needCopy\n",
    "          );\n",
    "\n",
    "// C++ 11 lambda function:\n",
    "transform(myset.begin(), myset.end(),     // source\n",
    "          back_inserter(d),              // destination\n",
    "          [](int x){return (x>20)||(x<5);}\n",
    "          );"
   ]
  },
  {
   "cell_type": "code",
   "execution_count": null,
   "metadata": {
    "vscode": {
     "languageId": "cpp"
    }
   },
   "outputs": [],
   "source": [
    "/*\n",
    " * Why do we need functor in STL?\n",
    " * \n",
    " * for example, set(sort by value), but what is the criteria do they use to sort? also like priority-queue, we need define which type of priority\n",
    " * \n",
    " */\n",
    "\n",
    "// the defination of set template class \n",
    "//* template<class _Kty,class _Pr = less<_Kty>,class _Alloc = allocator<_Kty> >\n",
    "//* class set{}\n",
    "\n",
    "set<int> myset = {3, 1, 25, 7, 12}; // myset: {1, 3, 7, 12, 25}\n",
    "// default class _Pr = less<_Kty>, same as:\n",
    "set<int, less<int> > myset = {3, 1, 25, 7, 12};\n",
    "\n",
    "// set 传入参数不能为函数名\n",
    "bool lsb_less(int x, int y) {\n",
    "      return (x%10)<(y%10);\n",
    "}\n",
    "\n",
    "// set 传入参数为class类型 --> class _Pr = less<_Kty>\n",
    "class Lsb_less {\n",
    "   public:\n",
    "   bool operator()(int x, int y) {\n",
    "      return (x%10)<(y%10);\n",
    "   }\n",
    "};\n",
    "int main()\n",
    "{\n",
    "  set<int, Lsb_less> myset = {3, 1, 25, 7, 12};  // myset: {1,12,3,25,7}\n",
    "}"
   ]
  },
  {
   "cell_type": "code",
   "execution_count": null,
   "metadata": {
    "vscode": {
     "languageId": "cpp"
    }
   },
   "outputs": [],
   "source": [
    "/*\n",
    " * Predicate\n",
    " *\n",
    " * A functor or function that:\n",
    " * 1. Returns a boolean\n",
    " * 2. Does not modify data\n",
    " */\n",
    "\n",
    "class NeedCopy {\n",
    "   bool operator()(int x){   \n",
    "      return (x>20)||(x<5);  \n",
    "   }\n",
    "};\n",
    "\n",
    "transform(myset.begin(), myset.end(),     // source\n",
    "          back_inserter(d),               // destination\n",
    "          NeedCopy()\n",
    "          );\n",
    "\n",
    "// Predicate is used for comparison or condition check"
   ]
  }
 ],
 "metadata": {
  "language_info": {
   "name": "python"
  },
  "orig_nbformat": 4
 },
 "nbformat": 4,
 "nbformat_minor": 2
}
