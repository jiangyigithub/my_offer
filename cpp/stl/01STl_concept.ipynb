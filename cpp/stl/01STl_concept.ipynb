{
 "cells": [
  {
   "cell_type": "markdown",
   "metadata": {},
   "source": [
    "## STL concept\n",
    "* Q: How containers, algorithms and iterators work together as a team ?\n",
    "* A: standard template library kind of goes the opposite way of object-oriented programming,it separates the algorithms and the data structures，algorithms operate to iterator directly"
   ]
  },
  {
   "cell_type": "code",
   "execution_count": null,
   "metadata": {
    "vscode": {
     "languageId": "cpp"
    }
   },
   "outputs": [],
   "source": [
    "#include <iostream>\n",
    "#include <vector>\n",
    "#include <algorithm>\n",
    "using namespace std;\n",
    "\n",
    "int main()\n",
    "{\n",
    "    // containers\n",
    "    vector<int> vec; // in heap\n",
    "    vec.push_back(4);\n",
    "    vec.push_back(1);\n",
    "    vec.push_back(8); // vec:{4,1,8}\n",
    "\n",
    "    // iterators\n",
    "    vector<int>::iterator itr1 = vec.begin(); // half-open: [begin,end)\n",
    "    vector<int>::iterator itr2 = vec.end();\n",
    "\n",
    "    // print vector elements before sorting\n",
    "    for (vector<int>::iterator itr = itr1; itr != itr2; ++itr)\n",
    "    {\n",
    "        cout << *itr << \" \";\n",
    "    }\n",
    "    cout << endl;\n",
    "\n",
    "    // algorithms\n",
    "    sort(itr1, itr2); // vec:{1,4,8}\n",
    "\n",
    "    // print vector elements after sorting\n",
    "    for (vector<int>::iterator itr = itr1; itr != itr2; ++itr)\n",
    "    {\n",
    "        cout << *itr << \" \";\n",
    "    }\n",
    "    return 0;\n",
    "}"
   ]
  },
  {
   "cell_type": "markdown",
   "metadata": {},
   "source": [
    "## pitfalls and traps\n",
    "* half-open: [begin,end)"
   ]
  },
  {
   "cell_type": "code",
   "execution_count": null,
   "metadata": {
    "vscode": {
     "languageId": "cpp"
    }
   },
   "outputs": [],
   "source": [
    "cout<<*vec.end()<<endl;//Ouch"
   ]
  }
 ],
 "metadata": {
  "language_info": {
   "name": "python"
  },
  "orig_nbformat": 4
 },
 "nbformat": 4,
 "nbformat_minor": 2
}
