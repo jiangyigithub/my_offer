{
 "cells": [
  {
   "cell_type": "markdown",
   "metadata": {},
   "source": [
    "## Associative Containers(binary tree红黑树): set, multiset, map, multimap\n",
    "\n",
    "1. `Always sorted`, default criteria is <\n",
    "2. No push_back(), push_front()\n",
    "3. set:sort by value, map sort by key\n",
    "4. What does \"Associative\" mean? --> set is the special case of map(key equal to value)"
   ]
  },
  {
   "cell_type": "code",
   "execution_count": null,
   "metadata": {
    "vscode": {
     "languageId": "cpp"
    }
   },
   "outputs": [],
   "source": [
    "/*\n",
    " * set\n",
    " *\n",
    " * - No duplicates\n",
    " */\n",
    "  set<int> myset;\n",
    "  myset.insert(3);    // myset: {3}\n",
    "  myset.insert(1);    // myset: {1, 3}\n",
    "  myset.insert(7);    // myset: {1, 3, 7},  O(log(n))\n",
    "\n",
    "  set<int>::iterator it;\n",
    "  it = myset.find(7);  // O(log(n)), it points to 7\n",
    "                  // Sequence containers don't even have find() member function\n",
    "  pair<set<int>::iterator, bool> ret;\n",
    "  ret = myset.insert(3);  // no new element inserted\n",
    "  if (ret.second==false) \n",
    "     it=ret.first;       // \"it\" now points to element 3\n",
    "\n",
    "  myset.insert(it, 9);  // myset:  {1, 3, 7, 9}   O(log(n)) => O(1)\n",
    "                         // it points to 3\n",
    "  myset.erase(it);         // myset:  {1, 7, 9}\n",
    "\n",
    "  myset.erase(7);   // myset:  {1, 9}\n",
    "     // Note: none of the sequence containers provide this kind of erase.\n",
    "\n",
    "\n",
    "\n",
    "\n",
    "// multiset is a set that allows duplicated items\n",
    "multiset<int> myset;\n",
    "\n",
    "// set/multiset: value of the elements cannot be modified\n",
    "*it = 10;  // *it is read-only\n",
    "\n",
    "\n",
    "/* Properties:\n",
    " * 1. Fast search: O(log(n))\n",
    " * 2. Traversing is slow (compared to vector & deque)\n",
    " * 3. No random access, no [] operator.\n",
    " */"
   ]
  },
  {
   "cell_type": "code",
   "execution_count": null,
   "metadata": {
    "vscode": {
     "languageId": "cpp"
    }
   },
   "outputs": [],
   "source": [
    "/*\n",
    " * map\n",
    " * \n",
    " * - No duplicated key\n",
    " */\n",
    "map<char,int> mymap;\n",
    "mymap.insert ( pair<char,int>('a',100) );\n",
    "mymap.insert ( make_pair('z',200) );\n",
    "\n",
    "map<char,int>::iterator it = mymap.begin();\n",
    "mymap.insert(it, pair<char,int>('b',300));  // \"it\" is a hint\n",
    "\n",
    "it = mymap.find('z');  // O(log(n))\n",
    "\n",
    "// showing contents:\n",
    "for ( it=mymap.begin() ; it != mymap.end(); it++ )\n",
    "  cout << (*it).first << \" => \" << (*it).second << endl;\n",
    "\n",
    "\n",
    "\n",
    "\n",
    "\n",
    "\n",
    "\n",
    "\n",
    "// multimap is a map that allows duplicated keys\n",
    "multimap<char,int> mymap;\n",
    "\n",
    "// map/multimap: \n",
    "//  -- keys cannot be modified\n",
    "//     type of *it:   pair<const char, int>\n",
    "     (*it).first = 'd';  // Error"
   ]
  }
 ],
 "metadata": {
  "language_info": {
   "name": "python"
  },
  "orig_nbformat": 4
 },
 "nbformat": 4,
 "nbformat_minor": 2
}
