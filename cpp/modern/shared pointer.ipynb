{
 "cells": [
  {
   "cell_type": "markdown",
   "metadata": {},
   "source": [
    "## why need smart pointer\n",
    "1. dangling pointer - undefined behavior\n",
    "2. memory leak\n",
    "root casue for above both - `delete`, we were not able to delete memory at appropriate time\n",
    "\n",
    "3. Wild pointer - A pointer which has not been initialized to anything (not even nullptr) \n",
    "   ```c++\n",
    "   int *p;  /* wild pointer */\n",
    "   ```"
   ]
  },
  {
   "cell_type": "code",
   "execution_count": null,
   "metadata": {
    "vscode": {
     "languageId": "cpp"
    }
   },
   "outputs": [],
   "source": [
    "// test class\n",
    "#include <memory>\n",
    "#include <iostream>\n",
    "using namespace std;\n",
    "\n",
    "class Dog {\n",
    "    string m_name;\n",
    "  public:\n",
    "      void bark() { cout << \"Dog \" << m_name << \" rules!\" << endl; }\n",
    "      Dog(string name) { cout << \"Dog is created: \" << name << endl; m_name = name; }\n",
    "      Dog() { cout << \"Nameless dog created.\" << endl; m_name = \"nameless\"; }\n",
    "     ~Dog() { cout << \"dog is destroyed: \" << m_name << endl; }\n",
    "\t  //void enter(DogHouse* h) { h->setDog(shared_from_this()); }  // Dont's call shared_from_this() in constructor\n",
    "};"
   ]
  },
  {
   "cell_type": "code",
   "execution_count": null,
   "metadata": {
    "vscode": {
     "languageId": "cpp"
    }
   },
   "outputs": [],
   "source": [
    "// dangling pointer\n",
    "void foo1(){\n",
    "    Dog* p=new Dog(\"Gunner\");\n",
    "    //...\n",
    "    delete p;\n",
    "    //...\n",
    "    p->bark();//p is a dangling pointer - undefined behavior\n",
    "}\n",
    "\n",
    "// memory leak\n",
    "void foo2(){\n",
    "    Dog* p=new Dog(\"Gunner\");\n",
    "    //...\n",
    "    //...\n",
    "    p->bark();\n",
    "}// Memory leak"
   ]
  },
  {
   "cell_type": "markdown",
   "metadata": {},
   "source": [
    "## shared_ptr\n",
    "* introduction\n",
    "* make_shared\n",
    "* custom deleter\n",
    "* shared_pointer VS raw pointer, shared_pointer <--> raw pointer\n",
    "* frequent API"
   ]
  },
  {
   "cell_type": "code",
   "execution_count": null,
   "metadata": {
    "vscode": {
     "languageId": "cpp"
    }
   },
   "outputs": [],
   "source": [
    "// Note1: shared_ptr introduction\n",
    "void foo3(){\n",
    "    shared_ptr<Dog> p(new Dog(\"Gunner\"));//count = 1\n",
    "    {\n",
    "        shared_ptr<Dog> p2=p;//count = 2\n",
    "        p2->bark();\n",
    "    }// count-1 -->1 , out of p2 range\n",
    "    p->bark();\n",
    "}//count -1 -->0, out of p1 range\n",
    "\n",
    "// run foo3():\n",
    "// Dog is created: Gunner\n",
    "// Dog Gunner rules!\n",
    "// Dog Gunner rules!\n",
    "// dog is destroyed: Gunner"
   ]
  },
  {
   "cell_type": "code",
   "execution_count": null,
   "metadata": {
    "vscode": {
     "languageId": "cpp"
    }
   },
   "outputs": [],
   "source": [
    "// Note2: make_shared\n",
    "// UC1. Bad Idea\n",
    "Dog* d = new Dog(\"Tank\");\n",
    "shared_ptr<Dog> p(d);\n",
    "shared_ptr<Dog> p2(d);  // Erroneous\n",
    "\n",
    "// UC2\n",
    "shared_ptr<Dog> p(new Dog(\"Gunner\"));// step1. \"Gunner\" is Creatd; step2. p is created\n",
    "shared_ptr<Dog> p2 = p;\n",
    "\n",
    "// UC3\n",
    "shared_ptr<Dog> p = make_shared<Dog>(\"Tank\"); // faster and safer"
   ]
  },
  {
   "cell_type": "code",
   "execution_count": null,
   "metadata": {
    "vscode": {
     "languageId": "cpp"
    }
   },
   "outputs": [],
   "source": [
    "//Note3 custom deleter"
   ]
  },
  {
   "cell_type": "code",
   "execution_count": null,
   "metadata": {
    "vscode": {
     "languageId": "cpp"
    }
   },
   "outputs": [],
   "source": [
    "//Note raw pointer VS shared pointer"
   ]
  },
  {
   "cell_type": "code",
   "execution_count": null,
   "metadata": {
    "vscode": {
     "languageId": "cpp"
    }
   },
   "outputs": [],
   "source": [
    "//Note frequent API\n"
   ]
  },
  {
   "cell_type": "markdown",
   "metadata": {},
   "source": [
    "## unique_ptr"
   ]
  }
 ],
 "metadata": {
  "language_info": {
   "name": "python"
  },
  "orig_nbformat": 4
 },
 "nbformat": 4,
 "nbformat_minor": 2
}
